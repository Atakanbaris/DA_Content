{
 "cells": [
  {
   "cell_type": "code",
   "execution_count": 5,
   "id": "1c4e0409",
   "metadata": {},
   "outputs": [
    {
     "name": "stdout",
     "output_type": "stream",
     "text": [
      "[[9, 7, 5], [4, 3], [2, 0]]\n"
     ]
    }
   ],
   "source": [
    "# Function for reversing list items.\n",
    "list=[[0, 2], [3, 4], [5, 7, 9]]\n",
    "def revLi(n):\n",
    "    n=n[::-1]\n",
    "    n=[i[::-1] for i in n]\n",
    "    return n\n",
    "print(revLi(list))"
   ]
  },
  {
   "cell_type": "code",
   "execution_count": 3,
   "id": "456256b9",
   "metadata": {},
   "outputs": [
    {
     "name": "stdout",
     "output_type": "stream",
     "text": [
      "['Istanbul', 'Amsterdam', 'London', 'Berlin', 'Rome', 'Madrid', 'Lisbon']\n"
     ]
    }
   ],
   "source": [
    "# Function for converting a nested list to a flatten list.\n",
    "list=[[\"Istanbul\",\"Amsterdam\",\"London\"],[\"Berlin\",\"Rome\"],[\"Madrid\",\"Lisbon\"]]\n",
    "def flatten_list(newList):\n",
    "    flat_list=[]\n",
    "    for i in newList:\n",
    "        for e in i:\n",
    "            flat_list.append(e)\n",
    "    return flat_list\n",
    "print(flatten_list(list))"
   ]
  },
  {
   "cell_type": "code",
   "execution_count": null,
   "id": "17a14cbb",
   "metadata": {},
   "outputs": [],
   "source": []
  }
 ],
 "metadata": {
  "kernelspec": {
   "display_name": "Python 3 (ipykernel)",
   "language": "python",
   "name": "python3"
  },
  "language_info": {
   "codemirror_mode": {
    "name": "ipython",
    "version": 3
   },
   "file_extension": ".py",
   "mimetype": "text/x-python",
   "name": "python",
   "nbconvert_exporter": "python",
   "pygments_lexer": "ipython3",
   "version": "3.10.1"
  }
 },
 "nbformat": 4,
 "nbformat_minor": 5
}
